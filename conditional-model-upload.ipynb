{
 "cells": [
  {
   "cell_type": "code",
   "execution_count": 1,
   "metadata": {
    "execution": {
     "iopub.execute_input": "2022-01-26T15:07:37.479928Z",
     "iopub.status.busy": "2022-01-26T15:07:37.479324Z",
     "iopub.status.idle": "2022-01-26T15:07:37.673582Z",
     "shell.execute_reply": "2022-01-26T15:07:37.674237Z"
    }
   },
   "outputs": [],
   "source": [
    "import orchest"
   ]
  },
  {
   "cell_type": "code",
   "execution_count": 2,
   "metadata": {
    "execution": {
     "iopub.execute_input": "2022-01-26T15:07:37.686829Z",
     "iopub.status.busy": "2022-01-26T15:07:37.686162Z",
     "iopub.status.idle": "2022-01-26T15:07:38.005394Z",
     "shell.execute_reply": "2022-01-26T15:07:38.005875Z"
    }
   },
   "outputs": [],
   "source": [
    "model_eval = orchest.get_inputs()[\"model_eval\"]"
   ]
  },
  {
   "cell_type": "code",
   "execution_count": 3,
   "metadata": {
    "execution": {
     "iopub.execute_input": "2022-01-26T15:07:38.015717Z",
     "iopub.status.busy": "2022-01-26T15:07:38.014267Z",
     "iopub.status.idle": "2022-01-26T15:07:38.016394Z",
     "shell.execute_reply": "2022-01-26T15:07:38.016881Z"
    }
   },
   "outputs": [],
   "source": [
    "# Fetch this from somewhere\n",
    "current_mse = 4.2\n",
    "test_mse = model_eval['test_mse']"
   ]
  },
  {
   "cell_type": "code",
   "execution_count": 4,
   "metadata": {
    "execution": {
     "iopub.execute_input": "2022-01-26T15:07:38.026725Z",
     "iopub.status.busy": "2022-01-26T15:07:38.026093Z",
     "iopub.status.idle": "2022-01-26T15:07:38.030379Z",
     "shell.execute_reply": "2022-01-26T15:07:38.030877Z"
    }
   },
   "outputs": [
    {
     "name": "stdout",
     "output_type": "stream",
     "text": [
      "0.06043590815530562 4.2\n",
      "Model improved, uploading...\n",
      "LinearRegression(copy_X=True, fit_intercept=True, n_jobs=None, normalize=False)\n"
     ]
    }
   ],
   "source": [
    "print(test_mse, current_mse)\n",
    "if model_eval['test_mse'] <  current_mse:\n",
    "    print(\"Model improved, uploading...\")\n",
    "    # Upload somewhere\n",
    "    print(model_eval[\"model\"])\n",
    "else:\n",
    "    print(\"Model did not improve. Aborting...\")"
   ]
  }
 ],
 "metadata": {
  "kernelspec": {
   "display_name": "Python 3",
   "language": "python",
   "name": "orchest-kernel-39fc8041-ec63-4415-a771-76e9193bc626"
  },
  "language_info": {
   "codemirror_mode": {
    "name": "ipython",
    "version": 3
   },
   "file_extension": ".py",
   "mimetype": "text/x-python",
   "name": "python",
   "nbconvert_exporter": "python",
   "pygments_lexer": "ipython3",
   "version": "3.7.6"
  }
 },
 "nbformat": 4,
 "nbformat_minor": 4
}
