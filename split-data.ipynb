{
 "cells": [
  {
   "cell_type": "code",
   "execution_count": 1,
   "metadata": {
    "execution": {
     "iopub.execute_input": "2022-01-26T15:07:27.370689Z",
     "iopub.status.busy": "2022-01-26T15:07:27.370088Z",
     "iopub.status.idle": "2022-01-26T15:07:27.960367Z",
     "shell.execute_reply": "2022-01-26T15:07:27.961314Z"
    }
   },
   "outputs": [],
   "source": [
    "import orchest\n",
    "\n",
    "from sklearn.model_selection import train_test_split"
   ]
  },
  {
   "cell_type": "code",
   "execution_count": 2,
   "metadata": {
    "execution": {
     "iopub.execute_input": "2022-01-26T15:07:27.971079Z",
     "iopub.status.busy": "2022-01-26T15:07:27.968619Z",
     "iopub.status.idle": "2022-01-26T15:07:27.975398Z",
     "shell.execute_reply": "2022-01-26T15:07:27.976222Z"
    }
   },
   "outputs": [],
   "source": [
    "dataset = orchest.get_inputs()[\"dataset\"]"
   ]
  },
  {
   "cell_type": "code",
   "execution_count": 3,
   "metadata": {
    "execution": {
     "iopub.execute_input": "2022-01-26T15:07:27.985845Z",
     "iopub.status.busy": "2022-01-26T15:07:27.985245Z",
     "iopub.status.idle": "2022-01-26T15:07:27.987801Z",
     "shell.execute_reply": "2022-01-26T15:07:27.988261Z"
    }
   },
   "outputs": [],
   "source": [
    "X_train, X_test, y_train, y_test = train_test_split(dataset['data'], dataset['target'])"
   ]
  },
  {
   "cell_type": "code",
   "execution_count": 4,
   "metadata": {
    "execution": {
     "iopub.execute_input": "2022-01-26T15:07:28.003245Z",
     "iopub.status.busy": "2022-01-26T15:07:28.002642Z",
     "iopub.status.idle": "2022-01-26T15:07:28.009732Z",
     "shell.execute_reply": "2022-01-26T15:07:28.010187Z"
    }
   },
   "outputs": [
    {
     "data": {
      "text/plain": [
       "((112, 4), (38, 4), (112,), (38,))"
      ]
     },
     "execution_count": 4,
     "metadata": {},
     "output_type": "execute_result"
    }
   ],
   "source": [
    "(X_train.shape, X_test.shape, y_train.shape, y_test.shape)"
   ]
  },
  {
   "cell_type": "code",
   "execution_count": 5,
   "metadata": {
    "execution": {
     "iopub.execute_input": "2022-01-26T15:07:28.021849Z",
     "iopub.status.busy": "2022-01-26T15:07:28.021112Z",
     "iopub.status.idle": "2022-01-26T15:07:28.022929Z",
     "shell.execute_reply": "2022-01-26T15:07:28.022409Z"
    }
   },
   "outputs": [],
   "source": [
    "orchest.output({\n",
    "    \"X_train\": X_train,\n",
    "    \"X_test\": X_test,\n",
    "    \"y_train\": y_train,\n",
    "    \"y_test\": y_test,\n",
    "}, name='split_data')"
   ]
  }
 ],
 "metadata": {
  "kernelspec": {
   "display_name": "Python 3",
   "language": "python",
   "name": "orchest-kernel-39fc8041-ec63-4415-a771-76e9193bc626"
  },
  "language_info": {
   "codemirror_mode": {
    "name": "ipython",
    "version": 3
   },
   "file_extension": ".py",
   "mimetype": "text/x-python",
   "name": "python",
   "nbconvert_exporter": "python",
   "pygments_lexer": "ipython3",
   "version": "3.7.6"
  }
 },
 "nbformat": 4,
 "nbformat_minor": 4
}
