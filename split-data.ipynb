{
 "cells": [
  {
   "cell_type": "code",
   "execution_count": 1,
   "metadata": {
    "execution": {
     "iopub.execute_input": "2022-01-26T14:29:17.012172Z",
     "iopub.status.busy": "2022-01-26T14:29:17.011552Z",
     "iopub.status.idle": "2022-01-26T14:29:17.536193Z",
     "shell.execute_reply": "2022-01-26T14:29:17.536702Z"
    }
   },
   "outputs": [],
   "source": [
    "import orchest\n",
    "\n",
    "from sklearn.model_selection import train_test_split"
   ]
  },
  {
   "cell_type": "code",
   "execution_count": 2,
   "metadata": {
    "execution": {
     "iopub.execute_input": "2022-01-26T14:29:17.544534Z",
     "iopub.status.busy": "2022-01-26T14:29:17.543398Z",
     "iopub.status.idle": "2022-01-26T14:29:17.551551Z",
     "shell.execute_reply": "2022-01-26T14:29:17.552364Z"
    }
   },
   "outputs": [],
   "source": [
    "dataset = orchest.get_inputs()[\"dataset\"]"
   ]
  },
  {
   "cell_type": "code",
   "execution_count": 3,
   "metadata": {
    "execution": {
     "iopub.execute_input": "2022-01-26T14:29:17.562012Z",
     "iopub.status.busy": "2022-01-26T14:29:17.561407Z",
     "iopub.status.idle": "2022-01-26T14:29:17.564489Z",
     "shell.execute_reply": "2022-01-26T14:29:17.565520Z"
    }
   },
   "outputs": [],
   "source": [
    "X_train, X_test, y_train, y_test = train_test_split(dataset['data'], dataset['target'])"
   ]
  },
  {
   "cell_type": "code",
   "execution_count": 4,
   "metadata": {
    "execution": {
     "iopub.execute_input": "2022-01-26T14:29:17.579494Z",
     "iopub.status.busy": "2022-01-26T14:29:17.578878Z",
     "iopub.status.idle": "2022-01-26T14:29:17.585769Z",
     "shell.execute_reply": "2022-01-26T14:29:17.586244Z"
    }
   },
   "outputs": [
    {
     "data": {
      "text/plain": [
       "((1347, 64), (450, 64), (1347,), (450,))"
      ]
     },
     "execution_count": 4,
     "metadata": {},
     "output_type": "execute_result"
    }
   ],
   "source": [
    "(X_train.shape, X_test.shape, y_train.shape, y_test.shape)"
   ]
  },
  {
   "cell_type": "code",
   "execution_count": 5,
   "metadata": {
    "execution": {
     "iopub.execute_input": "2022-01-26T14:29:17.598278Z",
     "iopub.status.busy": "2022-01-26T14:29:17.597670Z",
     "iopub.status.idle": "2022-01-26T14:29:17.600211Z",
     "shell.execute_reply": "2022-01-26T14:29:17.600674Z"
    }
   },
   "outputs": [],
   "source": [
    "orchest.output({\n",
    "    \"X_train\": X_train,\n",
    "    \"X_test\": X_test,\n",
    "    \"y_train\": y_train,\n",
    "    \"y_test\": y_test,\n",
    "}, name='split_data')"
   ]
  }
 ],
 "metadata": {
  "kernelspec": {
   "display_name": "Python 3",
   "language": "python",
   "name": "orchest-kernel-39fc8041-ec63-4415-a771-76e9193bc626"
  },
  "language_info": {
   "codemirror_mode": {
    "name": "ipython",
    "version": 3
   },
   "file_extension": ".py",
   "mimetype": "text/x-python",
   "name": "python",
   "nbconvert_exporter": "python",
   "pygments_lexer": "ipython3",
   "version": "3.7.6"
  }
 },
 "nbformat": 4,
 "nbformat_minor": 4
}
