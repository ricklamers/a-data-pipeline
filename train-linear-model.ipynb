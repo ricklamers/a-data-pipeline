{
 "cells": [
  {
   "cell_type": "code",
   "execution_count": 1,
   "metadata": {
    "execution": {
     "iopub.execute_input": "2022-01-26T14:29:20.544209Z",
     "iopub.status.busy": "2022-01-26T14:29:20.543583Z",
     "iopub.status.idle": "2022-01-26T14:29:21.119183Z",
     "shell.execute_reply": "2022-01-26T14:29:21.120063Z"
    }
   },
   "outputs": [],
   "source": [
    "from sklearn import linear_model\n",
    "import orchest"
   ]
  },
  {
   "cell_type": "code",
   "execution_count": 2,
   "metadata": {
    "execution": {
     "iopub.execute_input": "2022-01-26T14:29:21.130261Z",
     "iopub.status.busy": "2022-01-26T14:29:21.129648Z",
     "iopub.status.idle": "2022-01-26T14:29:21.135434Z",
     "shell.execute_reply": "2022-01-26T14:29:21.136502Z"
    }
   },
   "outputs": [],
   "source": [
    "split_data = orchest.get_inputs()[\"split_data\"]"
   ]
  },
  {
   "cell_type": "code",
   "execution_count": 3,
   "metadata": {
    "execution": {
     "iopub.execute_input": "2022-01-26T14:29:21.154694Z",
     "iopub.status.busy": "2022-01-26T14:29:21.153975Z",
     "iopub.status.idle": "2022-01-26T14:29:21.155840Z",
     "shell.execute_reply": "2022-01-26T14:29:21.155292Z"
    }
   },
   "outputs": [],
   "source": [
    "X_train = split_data['X_train']\n",
    "y_train = split_data['y_train']"
   ]
  },
  {
   "cell_type": "code",
   "execution_count": 4,
   "metadata": {
    "execution": {
     "iopub.execute_input": "2022-01-26T14:29:21.167027Z",
     "iopub.status.busy": "2022-01-26T14:29:21.166102Z",
     "iopub.status.idle": "2022-01-26T14:29:21.168182Z",
     "shell.execute_reply": "2022-01-26T14:29:21.167627Z"
    }
   },
   "outputs": [],
   "source": [
    "reg = linear_model.LinearRegression()"
   ]
  },
  {
   "cell_type": "code",
   "execution_count": 5,
   "metadata": {
    "execution": {
     "iopub.execute_input": "2022-01-26T14:29:21.186014Z",
     "iopub.status.busy": "2022-01-26T14:29:21.185360Z",
     "iopub.status.idle": "2022-01-26T14:29:21.209946Z",
     "shell.execute_reply": "2022-01-26T14:29:21.210815Z"
    }
   },
   "outputs": [
    {
     "data": {
      "text/plain": [
       "LinearRegression(copy_X=True, fit_intercept=True, n_jobs=None, normalize=False)"
      ]
     },
     "execution_count": 5,
     "metadata": {},
     "output_type": "execute_result"
    }
   ],
   "source": [
    "reg.fit(X_train, y_train)"
   ]
  },
  {
   "cell_type": "code",
   "execution_count": 6,
   "metadata": {
    "execution": {
     "iopub.execute_input": "2022-01-26T14:29:21.232435Z",
     "iopub.status.busy": "2022-01-26T14:29:21.231809Z",
     "iopub.status.idle": "2022-01-26T14:29:21.237363Z",
     "shell.execute_reply": "2022-01-26T14:29:21.237856Z"
    }
   },
   "outputs": [],
   "source": [
    "orchest.output(reg, name='linear_model')"
   ]
  }
 ],
 "metadata": {
  "kernelspec": {
   "display_name": "Python 3",
   "language": "python",
   "name": "orchest-kernel-39fc8041-ec63-4415-a771-76e9193bc626"
  },
  "language_info": {
   "codemirror_mode": {
    "name": "ipython",
    "version": 3
   },
   "file_extension": ".py",
   "mimetype": "text/x-python",
   "name": "python",
   "nbconvert_exporter": "python",
   "pygments_lexer": "ipython3",
   "version": "3.7.6"
  }
 },
 "nbformat": 4,
 "nbformat_minor": 4
}
