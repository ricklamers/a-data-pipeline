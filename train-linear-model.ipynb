{
 "cells": [
  {
   "cell_type": "code",
   "execution_count": 1,
   "metadata": {
    "execution": {
     "iopub.execute_input": "2022-01-26T15:07:30.925654Z",
     "iopub.status.busy": "2022-01-26T15:07:30.924997Z",
     "iopub.status.idle": "2022-01-26T15:07:31.412537Z",
     "shell.execute_reply": "2022-01-26T15:07:31.413080Z"
    }
   },
   "outputs": [],
   "source": [
    "from sklearn import linear_model\n",
    "import orchest"
   ]
  },
  {
   "cell_type": "code",
   "execution_count": 2,
   "metadata": {
    "execution": {
     "iopub.execute_input": "2022-01-26T15:07:31.425471Z",
     "iopub.status.busy": "2022-01-26T15:07:31.423966Z",
     "iopub.status.idle": "2022-01-26T15:07:31.426167Z",
     "shell.execute_reply": "2022-01-26T15:07:31.426671Z"
    }
   },
   "outputs": [],
   "source": [
    "split_data = orchest.get_inputs()[\"split_data\"]"
   ]
  },
  {
   "cell_type": "code",
   "execution_count": 3,
   "metadata": {
    "execution": {
     "iopub.execute_input": "2022-01-26T15:07:31.435493Z",
     "iopub.status.busy": "2022-01-26T15:07:31.434885Z",
     "iopub.status.idle": "2022-01-26T15:07:31.438409Z",
     "shell.execute_reply": "2022-01-26T15:07:31.438902Z"
    }
   },
   "outputs": [],
   "source": [
    "X_train = split_data['X_train']\n",
    "y_train = split_data['y_train']"
   ]
  },
  {
   "cell_type": "code",
   "execution_count": 4,
   "metadata": {
    "execution": {
     "iopub.execute_input": "2022-01-26T15:07:31.447766Z",
     "iopub.status.busy": "2022-01-26T15:07:31.447164Z",
     "iopub.status.idle": "2022-01-26T15:07:31.448855Z",
     "shell.execute_reply": "2022-01-26T15:07:31.449354Z"
    }
   },
   "outputs": [],
   "source": [
    "reg = linear_model.LinearRegression()"
   ]
  },
  {
   "cell_type": "code",
   "execution_count": 5,
   "metadata": {
    "execution": {
     "iopub.execute_input": "2022-01-26T15:07:31.465572Z",
     "iopub.status.busy": "2022-01-26T15:07:31.457668Z",
     "iopub.status.idle": "2022-01-26T15:07:31.472205Z",
     "shell.execute_reply": "2022-01-26T15:07:31.471661Z"
    }
   },
   "outputs": [
    {
     "data": {
      "text/plain": [
       "LinearRegression(copy_X=True, fit_intercept=True, n_jobs=None, normalize=False)"
      ]
     },
     "execution_count": 5,
     "metadata": {},
     "output_type": "execute_result"
    }
   ],
   "source": [
    "reg.fit(X_train, y_train)"
   ]
  },
  {
   "cell_type": "code",
   "execution_count": 6,
   "metadata": {
    "execution": {
     "iopub.execute_input": "2022-01-26T15:07:31.480894Z",
     "iopub.status.busy": "2022-01-26T15:07:31.479575Z",
     "iopub.status.idle": "2022-01-26T15:07:31.484935Z",
     "shell.execute_reply": "2022-01-26T15:07:31.484342Z"
    }
   },
   "outputs": [],
   "source": [
    "orchest.output(reg, name='linear_model')"
   ]
  }
 ],
 "metadata": {
  "kernelspec": {
   "display_name": "Python 3",
   "language": "python",
   "name": "orchest-kernel-39fc8041-ec63-4415-a771-76e9193bc626"
  },
  "language_info": {
   "codemirror_mode": {
    "name": "ipython",
    "version": 3
   },
   "file_extension": ".py",
   "mimetype": "text/x-python",
   "name": "python",
   "nbconvert_exporter": "python",
   "pygments_lexer": "ipython3",
   "version": "3.7.6"
  }
 },
 "nbformat": 4,
 "nbformat_minor": 4
}
