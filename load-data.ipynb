{
 "cells": [
  {
   "cell_type": "code",
   "execution_count": 1,
   "id": "478ca99c-e0e8-4ac8-9874-0e69d2df6489",
   "metadata": {
    "execution": {
     "iopub.execute_input": "2022-01-26T15:07:23.677510Z",
     "iopub.status.busy": "2022-01-26T15:07:23.676852Z",
     "iopub.status.idle": "2022-01-26T15:07:24.336630Z",
     "shell.execute_reply": "2022-01-26T15:07:24.335980Z"
    }
   },
   "outputs": [],
   "source": [
    "import orchest \n",
    "import pandas as pd\n",
    "\n",
    "from sklearn import datasets"
   ]
  },
  {
   "cell_type": "code",
   "execution_count": 2,
   "id": "4694a79a-5b5a-4959-848b-89b9a153cd8a",
   "metadata": {
    "execution": {
     "iopub.execute_input": "2022-01-26T15:07:24.345881Z",
     "iopub.status.busy": "2022-01-26T15:07:24.345267Z",
     "iopub.status.idle": "2022-01-26T15:07:24.348796Z",
     "shell.execute_reply": "2022-01-26T15:07:24.348299Z"
    }
   },
   "outputs": [],
   "source": [
    "dataset_name = orchest.get_step_param(\"dataset\")"
   ]
  },
  {
   "cell_type": "code",
   "execution_count": 3,
   "id": "8467fa57-4cef-4f0f-99c9-63af40553b6b",
   "metadata": {
    "execution": {
     "iopub.execute_input": "2022-01-26T15:07:24.358952Z",
     "iopub.status.busy": "2022-01-26T15:07:24.357482Z",
     "iopub.status.idle": "2022-01-26T15:07:24.359630Z",
     "shell.execute_reply": "2022-01-26T15:07:24.360129Z"
    }
   },
   "outputs": [],
   "source": [
    "loader = getattr(datasets, \"load_\" + dataset_name)"
   ]
  },
  {
   "cell_type": "code",
   "execution_count": 4,
   "id": "931777b8-3999-4a8a-bb63-c9f4207d6530",
   "metadata": {
    "execution": {
     "iopub.execute_input": "2022-01-26T15:07:24.368760Z",
     "iopub.status.busy": "2022-01-26T15:07:24.367676Z",
     "iopub.status.idle": "2022-01-26T15:07:24.371662Z",
     "shell.execute_reply": "2022-01-26T15:07:24.371103Z"
    }
   },
   "outputs": [],
   "source": [
    "sk_dataset = loader()"
   ]
  },
  {
   "cell_type": "code",
   "execution_count": 5,
   "id": "60ccecb3-4c6f-4851-a2b3-7c7643316662",
   "metadata": {
    "execution": {
     "iopub.execute_input": "2022-01-26T15:07:24.381001Z",
     "iopub.status.busy": "2022-01-26T15:07:24.379856Z",
     "iopub.status.idle": "2022-01-26T15:07:24.383594Z",
     "shell.execute_reply": "2022-01-26T15:07:24.383095Z"
    }
   },
   "outputs": [],
   "source": [
    "orchest.output(sk_dataset, name=\"dataset\")"
   ]
  }
 ],
 "metadata": {
  "kernelspec": {
   "display_name": "Python 3",
   "language": "python",
   "name": "orchest-kernel-39fc8041-ec63-4415-a771-76e9193bc626"
  },
  "language_info": {
   "codemirror_mode": {
    "name": "ipython",
    "version": 3
   },
   "file_extension": ".py",
   "mimetype": "text/x-python",
   "name": "python",
   "nbconvert_exporter": "python",
   "pygments_lexer": "ipython3",
   "version": "3.7.6"
  }
 },
 "nbformat": 4,
 "nbformat_minor": 5
}
