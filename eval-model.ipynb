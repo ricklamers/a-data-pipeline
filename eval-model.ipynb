{
 "cells": [
  {
   "cell_type": "code",
   "execution_count": 1,
   "metadata": {
    "execution": {
     "iopub.execute_input": "2022-01-26T15:07:34.239902Z",
     "iopub.status.busy": "2022-01-26T15:07:34.239282Z",
     "iopub.status.idle": "2022-01-26T15:07:34.715722Z",
     "shell.execute_reply": "2022-01-26T15:07:34.715052Z"
    }
   },
   "outputs": [],
   "source": [
    "import orchest\n",
    "\n",
    "from sklearn.metrics import mean_squared_error"
   ]
  },
  {
   "cell_type": "code",
   "execution_count": 2,
   "metadata": {
    "execution": {
     "iopub.execute_input": "2022-01-26T15:07:34.726366Z",
     "iopub.status.busy": "2022-01-26T15:07:34.725710Z",
     "iopub.status.idle": "2022-01-26T15:07:34.748430Z",
     "shell.execute_reply": "2022-01-26T15:07:34.748937Z"
    }
   },
   "outputs": [],
   "source": [
    "inputs = orchest.get_inputs()\n",
    "\n",
    "dataset = inputs[\"split_data\"]\n",
    "linear_model = inputs[\"linear_model\"]"
   ]
  },
  {
   "cell_type": "code",
   "execution_count": 3,
   "metadata": {
    "execution": {
     "iopub.execute_input": "2022-01-26T15:07:34.765894Z",
     "iopub.status.busy": "2022-01-26T15:07:34.756770Z",
     "iopub.status.idle": "2022-01-26T15:07:34.769958Z",
     "shell.execute_reply": "2022-01-26T15:07:34.770474Z"
    }
   },
   "outputs": [
    {
     "data": {
      "text/plain": [
       "('Test error MSE', 0.06043590815530562)"
      ]
     },
     "execution_count": 3,
     "metadata": {},
     "output_type": "execute_result"
    }
   ],
   "source": [
    "test_mse = mean_squared_error(linear_model.predict(dataset[\"X_test\"]), dataset[\"y_test\"])\n",
    "\"Test error MSE\", test_mse"
   ]
  },
  {
   "cell_type": "code",
   "execution_count": 4,
   "metadata": {
    "execution": {
     "iopub.execute_input": "2022-01-26T15:07:34.782984Z",
     "iopub.status.busy": "2022-01-26T15:07:34.781486Z",
     "iopub.status.idle": "2022-01-26T15:07:34.785545Z",
     "shell.execute_reply": "2022-01-26T15:07:34.784959Z"
    }
   },
   "outputs": [
    {
     "data": {
      "text/plain": [
       "('Train error MSE', 0.04207658963797028)"
      ]
     },
     "execution_count": 4,
     "metadata": {},
     "output_type": "execute_result"
    }
   ],
   "source": [
    "train_mse = mean_squared_error(linear_model.predict(dataset[\"X_train\"]), dataset[\"y_train\"])\n",
    "\"Train error MSE\", train_mse"
   ]
  },
  {
   "cell_type": "code",
   "execution_count": 5,
   "metadata": {
    "execution": {
     "iopub.execute_input": "2022-01-26T15:07:34.796523Z",
     "iopub.status.busy": "2022-01-26T15:07:34.795415Z",
     "iopub.status.idle": "2022-01-26T15:07:34.797644Z",
     "shell.execute_reply": "2022-01-26T15:07:34.798127Z"
    }
   },
   "outputs": [],
   "source": [
    "orchest.output({\n",
    "    \"model\": linear_model,\n",
    "    \"test_mse\": test_mse\n",
    "}, name=\"model_eval\")"
   ]
  }
 ],
 "metadata": {
  "kernelspec": {
   "display_name": "Python 3",
   "language": "python",
   "name": "orchest-kernel-39fc8041-ec63-4415-a771-76e9193bc626"
  },
  "language_info": {
   "codemirror_mode": {
    "name": "ipython",
    "version": 3
   },
   "file_extension": ".py",
   "mimetype": "text/x-python",
   "name": "python",
   "nbconvert_exporter": "python",
   "pygments_lexer": "ipython3",
   "version": "3.7.6"
  }
 },
 "nbformat": 4,
 "nbformat_minor": 4
}
