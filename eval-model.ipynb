{
 "cells": [
  {
   "cell_type": "code",
   "execution_count": 1,
   "metadata": {
    "execution": {
     "iopub.execute_input": "2022-01-26T14:29:24.037183Z",
     "iopub.status.busy": "2022-01-26T14:29:24.036575Z",
     "iopub.status.idle": "2022-01-26T14:29:24.519231Z",
     "shell.execute_reply": "2022-01-26T14:29:24.519733Z"
    }
   },
   "outputs": [],
   "source": [
    "import orchest\n",
    "\n",
    "from sklearn.metrics import mean_squared_error"
   ]
  },
  {
   "cell_type": "code",
   "execution_count": 2,
   "metadata": {
    "execution": {
     "iopub.execute_input": "2022-01-26T14:29:24.528937Z",
     "iopub.status.busy": "2022-01-26T14:29:24.528332Z",
     "iopub.status.idle": "2022-01-26T14:29:24.552458Z",
     "shell.execute_reply": "2022-01-26T14:29:24.552928Z"
    }
   },
   "outputs": [],
   "source": [
    "inputs = orchest.get_inputs()\n",
    "\n",
    "dataset = inputs[\"split_data\"]\n",
    "linear_model = inputs[\"linear_model\"]"
   ]
  },
  {
   "cell_type": "code",
   "execution_count": 3,
   "metadata": {
    "execution": {
     "iopub.execute_input": "2022-01-26T14:29:24.566485Z",
     "iopub.status.busy": "2022-01-26T14:29:24.563232Z",
     "iopub.status.idle": "2022-01-26T14:29:24.572263Z",
     "shell.execute_reply": "2022-01-26T14:29:24.572793Z"
    }
   },
   "outputs": [
    {
     "data": {
      "text/plain": [
       "('Test error MSE', 3.1233668244952018)"
      ]
     },
     "execution_count": 3,
     "metadata": {},
     "output_type": "execute_result"
    }
   ],
   "source": [
    "test_mse = mean_squared_error(linear_model.predict(dataset[\"X_test\"]), dataset[\"y_test\"])\n",
    "\"Test error MSE\", test_mse"
   ]
  },
  {
   "cell_type": "code",
   "execution_count": 4,
   "metadata": {
    "execution": {
     "iopub.execute_input": "2022-01-26T14:29:24.587622Z",
     "iopub.status.busy": "2022-01-26T14:29:24.586975Z",
     "iopub.status.idle": "2022-01-26T14:29:24.590332Z",
     "shell.execute_reply": "2022-01-26T14:29:24.589720Z"
    }
   },
   "outputs": [
    {
     "data": {
      "text/plain": [
       "('Train error MSE', 3.3958216978623845)"
      ]
     },
     "execution_count": 4,
     "metadata": {},
     "output_type": "execute_result"
    }
   ],
   "source": [
    "train_mse = mean_squared_error(linear_model.predict(dataset[\"X_train\"]), dataset[\"y_train\"])\n",
    "\"Train error MSE\", train_mse"
   ]
  },
  {
   "cell_type": "code",
   "execution_count": 5,
   "metadata": {
    "execution": {
     "iopub.execute_input": "2022-01-26T14:29:24.604465Z",
     "iopub.status.busy": "2022-01-26T14:29:24.602255Z",
     "iopub.status.idle": "2022-01-26T14:29:24.607143Z",
     "shell.execute_reply": "2022-01-26T14:29:24.607613Z"
    }
   },
   "outputs": [],
   "source": [
    "orchest.output({\n",
    "    \"model\": linear_model,\n",
    "    \"test_mse\": test_mse\n",
    "}, name=\"model_eval\")"
   ]
  }
 ],
 "metadata": {
  "kernelspec": {
   "display_name": "Python 3",
   "language": "python",
   "name": "orchest-kernel-39fc8041-ec63-4415-a771-76e9193bc626"
  },
  "language_info": {
   "codemirror_mode": {
    "name": "ipython",
    "version": 3
   },
   "file_extension": ".py",
   "mimetype": "text/x-python",
   "name": "python",
   "nbconvert_exporter": "python",
   "pygments_lexer": "ipython3",
   "version": "3.7.6"
  }
 },
 "nbformat": 4,
 "nbformat_minor": 4
}
